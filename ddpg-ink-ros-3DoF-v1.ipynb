{
 "cells": [
  {
   "cell_type": "code",
   "execution_count": 1,
   "metadata": {},
   "outputs": [],
   "source": [
    "TB_DIR = \"TB-ddpg-ink-useless/\""
   ]
  },
  {
   "cell_type": "code",
   "execution_count": 2,
   "metadata": {},
   "outputs": [],
   "source": [
    "TCP_PORT = 15011"
   ]
  },
  {
   "cell_type": "code",
   "execution_count": 3,
   "metadata": {},
   "outputs": [],
   "source": [
    "import numpy as np\n",
    "import socket\n",
    "import json\n",
    "\n",
    "class tcp_env():\n",
    "    def __init__(self, tcp_port):\n",
    "        self.s=socket.socket(socket.AF_INET,socket.SOCK_STREAM)\n",
    "\n",
    "        self.s.connect(('127.0.0.1',tcp_port))\n",
    "\n",
    "        print( self.s.recv(1024).decode())\n",
    "\n",
    "        data = { 'type' : 'init' } \n",
    "\n",
    "        str_json = json.dumps(data)\n",
    "        self.s.send( str_json.encode() )\n",
    "        str_recv = self.s.recv(1024).decode()\n",
    "        \n",
    "        data_json = json.loads( str_recv )\n",
    "        \n",
    "        self.state_dim = data_json[\"state_dim\"]\n",
    "        self.action_dim = data_json[\"action_dim\"]\n",
    "        self.DoF = data_json[\"DoF\"]\n",
    "\n",
    "        # s.send('exit')\n",
    "        # s.close()        \n",
    "        \n",
    "    def  reset(self):\n",
    "        data = { 'type' : 'reset' } \n",
    "\n",
    "        str_json = json.dumps(data)\n",
    "        self.s.send( str_json.encode() )\n",
    "        str_recv = self.s.recv(1024).decode()\n",
    "        \n",
    "        data_json = json.loads( str_recv )\n",
    "        \n",
    "        state = np.array( data_json[\"state\"] )\n",
    "        return state\n",
    "    def step(self, action):\n",
    "        \n",
    "        data = { 'type' : 'step', 'action' : action.tolist() } \n",
    "\n",
    "        str_json = json.dumps(data)\n",
    "        self.s.send( str_json.encode() )\n",
    "        str_recv = self.s.recv(1024).decode()\n",
    "        \n",
    "        data_json = json.loads( str_recv )\n",
    "        \n",
    "        state = np.array( data_json[\"state\"] )\n",
    "        r = data_json[\"reward\"]\n",
    "        d = data_json[\"done\"]\n",
    "        info = data_json[\"info\"]\n",
    "        \n",
    "        return state, r, d, info\n",
    "    def close_tcp(self):\n",
    "        print(\" close tcp ... \")\n",
    "        data = { 'type' : 'close' } \n",
    "\n",
    "        str_json = json.dumps(data)\n",
    "        self.s.send( str_json.encode() )\n",
    "        self.s.close()        \n"
   ]
  },
  {
   "cell_type": "code",
   "execution_count": 4,
   "metadata": {},
   "outputs": [
    {
     "name": "stdout",
     "output_type": "stream",
     "text": [
      "Welcome!\n"
     ]
    }
   ],
   "source": [
    "env = tcp_env( tcp_port = TCP_PORT )"
   ]
  },
  {
   "cell_type": "code",
   "execution_count": null,
   "metadata": {},
   "outputs": [],
   "source": []
  },
  {
   "cell_type": "code",
   "execution_count": 7,
   "metadata": {},
   "outputs": [
    {
     "name": "stdout",
     "output_type": "stream",
     "text": [
      " close tcp ... \n"
     ]
    }
   ],
   "source": [
    "env.close_tcp()"
   ]
  },
  {
   "cell_type": "code",
   "execution_count": 5,
   "metadata": {},
   "outputs": [],
   "source": [
    "import numpy as np\n",
    "\n",
    "%matplotlib inline\n",
    "import matplotlib.pyplot as plt"
   ]
  },
  {
   "cell_type": "code",
   "execution_count": 6,
   "metadata": {},
   "outputs": [],
   "source": [
    "import tensorflow as tf\n",
    "import numpy as np\n",
    "import gym\n",
    "\n",
    "from tensorflow.contrib.layers.python.layers import batch_norm as batch_norm\n",
    "\n",
    "LR_A = 0.001\n",
    "LR_C = 0.002\n",
    "GAMMA = 0.9\n",
    "TAU = 0.01\n",
    "MEMORY_CAPACITY = 30000\n",
    "BATCH_SIZE = 32\n",
    "\n",
    "class DDPG:\n",
    "    def __init__(self, env):\n",
    "        self.s_dim = env.state_dim\n",
    "        self.a_dim = env.action_dim    \n",
    "\n",
    "#         self.s_dim = 3\n",
    "#         self.a_dim = 1\n",
    "        \n",
    "        self.a_bound = 1.0\n",
    "\n",
    "        self.build_nn()\n",
    "        self.train_method()\n",
    "        self.sess = tf.Session()\n",
    "\n",
    "        tf.summary.FileWriter(TB_DIR, self.sess.graph) # tensorboard --logdir='logs'\n",
    "\n",
    "        if 0:\n",
    "            self.sess.run(tf.global_variables_initializer())\n",
    "        else:\n",
    "            ckpt = tf.train.get_checkpoint_state(\"model-save-ddpg-ink-ros-3DoF-v1\")  \n",
    "            if ckpt and ckpt.model_checkpoint_path:  \n",
    "                tf.train.Saver().restore(self.sess, ckpt.model_checkpoint_path)\n",
    "                print( \"Load model ...\" )\n",
    "        \n",
    "        self.var = 1.0\n",
    "        \n",
    "        self.pointer = 0\n",
    "        self.memory = np.zeros((MEMORY_CAPACITY, self.s_dim * 2 + self.a_dim + 1), dtype=np.float32)\n",
    "        \n",
    "        self.adjust_norm = 0\n",
    "        \n",
    "    def build_nn(self):\n",
    "\n",
    "        self.is_training = tf.placeholder(tf.bool, name=\"is_training\")\n",
    "        self.is_training2 = tf.placeholder(tf.bool, name=\"is_training2\")\n",
    "        \n",
    "        self.s = tf.placeholder(tf.float32, [None, self.s_dim], 's')\n",
    "        self.s_ = tf.placeholder(tf.float32, [None, self.s_dim], 's_')\n",
    "        self.r = tf.placeholder(tf.float32, [None, 1], 'r')\n",
    "        \n",
    "        with tf.variable_scope(\"batch_norm_s\"):\n",
    "            self.norm_s = tf.layers.batch_normalization(self.s , training=self.is_training )\n",
    "            \n",
    "        with tf.variable_scope(\"batch_norm_s_\"):\n",
    "            self.norm_s_ = tf.layers.batch_normalization(self.s_ , training=self.is_training2 )\n",
    "        \n",
    "        with tf.variable_scope(\"eval\"):\n",
    "            self.a = self.build_a_nn( self.norm_s , scope = \"actor\", trainable = True)\n",
    "            self.q = self.build_c_nn( self.norm_s , self.a, scope = \"critic\", trainable = True)\n",
    "            \n",
    "        with tf.variable_scope(\"target\"):\n",
    "            self.a_target = self.build_a_nn( self.norm_s_ , scope = \"actor\", trainable = False)\n",
    "            self.q_target = self.build_c_nn( self.norm_s_ , self.a_target, scope = \"critic\", trainable = False)\n",
    "\n",
    "        self.ea_params = tf.get_collection(tf.GraphKeys.GLOBAL_VARIABLES, scope=\"eval/actor\")\n",
    "        self.ec_params = tf.get_collection(tf.GraphKeys.GLOBAL_VARIABLES, scope=\"eval/critic\")\n",
    "        self.ta_params = tf.get_collection(tf.GraphKeys.GLOBAL_VARIABLES, scope=\"target/actor\")\n",
    "        self.tc_params = tf.get_collection(tf.GraphKeys.GLOBAL_VARIABLES, scope=\"target/critic\")\n",
    "        \n",
    "        self.params_norm_s = tf.get_collection(tf.GraphKeys.GLOBAL_VARIABLES, scope=\"batch_norm_s\")\n",
    "        self.params_norm_s_ = tf.get_collection(tf.GraphKeys.GLOBAL_VARIABLES, scope=\"batch_norm_s_\")\n",
    "        \n",
    "        self.feed_norm = [[tf.assign(p_n_s_, p_n_s)]\n",
    "            for p_n_s_, p_n_s in zip( self.params_norm_s_, self.params_norm_s )]\n",
    "        \n",
    "        self.soft_replace = [[tf.assign(ta, (1-TAU)*ta+TAU*ea), tf.assign(tc, (1-TAU)*tc+TAU*ec)]\n",
    "            for ta, ea, tc, ec in zip(self.ta_params, self.ea_params, self.tc_params, self.ec_params)]\n",
    "        \n",
    "    def train_method(self):\n",
    "\n",
    "        c_loss = tf.losses.mean_squared_error(labels = (self.r + GAMMA*self.q_target), predictions = self.q)\n",
    "        self.c_learn = tf.train.AdamOptimizer(LR_C).minimize( c_loss, name=\"adam-c\", var_list = self.ec_params )\n",
    "\n",
    "        self.a_learn = tf.train.AdamOptimizer(LR_A).minimize( - tf.reduce_mean(self.q), name=\"adam-a\", var_list = self.ea_params )\n",
    "        \n",
    "    def build_c_nn(self, s, a, scope, trainable):\n",
    "        # Critic: Q-leaning\n",
    "        with tf.variable_scope(scope):\n",
    "            \n",
    "            net_1 = tf.layers.dense( tf.concat( axis=1, values=[ a,s ], name=\"concat\" ), 60, activation = tf.nn.relu, name=\"a-s\", trainable=trainable )\n",
    "    \n",
    "#             net_2 = tf.layers.dense( net_1, 30, activation = tf.nn.relu, name=\"net_2\", trainable=trainable )\n",
    "            q = tf.layers.dense(net_1, 1, name=\"q\", trainable = trainable)\n",
    "            \n",
    "        return q\n",
    "    def build_a_nn(self, s, scope, trainable):\n",
    "        # Actor: DPG\n",
    "        with tf.variable_scope(scope):\n",
    "            l1 = tf.layers.dense(s, 30, activation = tf.nn.relu, name = 's1', trainable = trainable)\n",
    "            \n",
    "            a = tf.layers.dense(l1, self.a_dim, activation = tf.nn.tanh, name = 'a1', trainable = trainable)     \n",
    "            \n",
    "        return tf.multiply(a, self.a_bound, name = \"scaled_a\")  \n",
    "        \n",
    "    def action(self, s):\n",
    "\n",
    "        a = self.sess.run(self.a, { self.is_training:False, self.s: s[np.newaxis, :]})[0]\n",
    "        a = np.clip(np.random.normal(a, self.var), -self.a_bound, self.a_bound )\n",
    "        return a\n",
    "    \n",
    "    def store_memory(self, s, s_, r, a):\n",
    "        trans = np.hstack((s,a,[r],s_))\n",
    "        index = self.pointer % MEMORY_CAPACITY\n",
    "        self.memory[index, :] = trans\n",
    "        self.pointer += 1\n",
    "\n",
    "        if self.pointer > MEMORY_CAPACITY:\n",
    "            self.var *= 0.99995\n",
    "            self.learn()\n",
    "            \n",
    "    def learn(self):\n",
    "        method = 0\n",
    "        # Soft Parameter Update\n",
    "        if method == 0:\n",
    "            self.sess.run(self.soft_replace)\n",
    "\n",
    "\n",
    "\n",
    "#         if self.adjust_norm:\n",
    "#             self.sess.run(self.a_learn, { self.is_training:True, self.s: bs})\n",
    "#             self.sess.run(self.feed_norm)\n",
    "#         else:\n",
    "#             self.sess.run(self.a_learn, { self.is_training:False, self.s: bs})\n",
    "        \n",
    "#         self.sess.run(self.c_learn, { self.is_training:False, self.is_training2:False, self.s: bs, self.a: ba, self.r: br, self.s_: bs_})\n",
    "\n",
    "        for _ in range(5):    \n",
    "            if method == 1:\n",
    "                self.sess.run(self.soft_replace)\n",
    "            \n",
    "            indices = np.random.choice(MEMORY_CAPACITY, size = BATCH_SIZE)\n",
    "            bt = self.memory[indices, :]\n",
    "            bs = bt[:, :self.s_dim]\n",
    "            ba = bt[:, self.s_dim: self.s_dim + self.a_dim]\n",
    "            br = bt[:, -self.s_dim-1: -self.s_dim]\n",
    "            bs_ = bt[:, -self.s_dim:]\n",
    "            self.sess.run(self.c_learn, { self.is_training:False, self.is_training2:False, self.s: bs, self.a: ba, self.r: br, self.s_: bs_})\n",
    "\n",
    "        indices = np.random.choice(MEMORY_CAPACITY, size = BATCH_SIZE)\n",
    "        bt = self.memory[indices, :]\n",
    "        bs = bt[:, :self.s_dim]\n",
    "        ba = bt[:, self.s_dim: self.s_dim + self.a_dim]\n",
    "        br = bt[:, -self.s_dim-1: -self.s_dim]\n",
    "        bs_ = bt[:, -self.s_dim:]\n",
    "            \n",
    "        self.sess.run(self.a_learn, { self.is_training:False, self.s: bs})\n"
   ]
  },
  {
   "cell_type": "code",
   "execution_count": 7,
   "metadata": {},
   "outputs": [],
   "source": [
    "# env = gym.make( \"Pendulum-v0\" )"
   ]
  },
  {
   "cell_type": "code",
   "execution_count": 7,
   "metadata": {},
   "outputs": [
    {
     "name": "stdout",
     "output_type": "stream",
     "text": [
      "INFO:tensorflow:Restoring parameters from model-save-ddpg-ink-ros-3DoF-v1/model.ckpt\n"
     ]
    }
   ],
   "source": [
    "agent = DDPG( env )"
   ]
  },
  {
   "cell_type": "code",
   "execution_count": 8,
   "metadata": {},
   "outputs": [],
   "source": [
    "max_step_ep = 500\n",
    "r_save = []"
   ]
  },
  {
   "cell_type": "code",
   "execution_count": 9,
   "metadata": {},
   "outputs": [],
   "source": [
    "a_scope = 0.02"
   ]
  },
  {
   "cell_type": "markdown",
   "metadata": {},
   "source": [
    "#### Train"
   ]
  },
  {
   "cell_type": "code",
   "execution_count": 11,
   "metadata": {
    "scrolled": true
   },
   "outputs": [
    {
     "name": "stdout",
     "output_type": "stream",
     "text": [
      "('learning_ep: ', 0)\n",
      "('r_all: ', -223.1729159932631)\n",
      "('learning_ep: ', 1)\n",
      "('r_all: ', -266.37676328684375)\n",
      "('learning_ep: ', 2)\n",
      "('r_all: ', -237.29598945795232)\n",
      "('learning_ep: ', 3)\n",
      "('r_all: ', -195.88379151127089)\n",
      "('learning_ep: ', 4)\n",
      "('r_all: ', -185.70188995538592)\n",
      "('learning_ep: ', 5)\n",
      "('r_all: ', -194.78053268500284)\n",
      "('learning_ep: ', 6)\n",
      "('r_all: ', -198.52181260927128)\n",
      "('learning_ep: ', 7)\n",
      "('r_all: ', -251.54826516586968)\n",
      "('learning_ep: ', 8)\n",
      "('r_all: ', -238.66735803445638)\n",
      "('learning_ep: ', 9)\n",
      "('r_all: ', -198.88740391597165)\n",
      "('learning_ep: ', 10)\n",
      "('r_all: ', -212.04026339883427)\n",
      "('learning_ep: ', 11)\n",
      "('r_all: ', -239.5569631917371)\n",
      "('learning_ep: ', 12)\n",
      "('r_all: ', -244.9457476108062)\n",
      "('learning_ep: ', 13)\n",
      "('r_all: ', -252.03297441195832)\n",
      "('learning_ep: ', 14)\n",
      "('r_all: ', -188.61628840449305)\n",
      "('learning_ep: ', 15)\n",
      "('r_all: ', -298.61010481350206)\n",
      "('learning_ep: ', 16)\n",
      "('r_all: ', -179.0417554780948)\n",
      "('learning_ep: ', 17)\n",
      "('r_all: ', -246.28482618692277)\n",
      "('learning_ep: ', 18)\n",
      "('r_all: ', -173.84051283798567)\n",
      "('learning_ep: ', 19)\n",
      "('r_all: ', -195.15028119514966)\n",
      "('learning_ep: ', 20)\n",
      "('r_all: ', -264.5090653097439)\n",
      "('learning_ep: ', 21)\n",
      "('r_all: ', -246.43505825510627)\n",
      "('learning_ep: ', 22)\n",
      "('r_all: ', -190.21856595418467)\n",
      "('learning_ep: ', 23)\n",
      "('r_all: ', -222.98292406849427)\n",
      "('learning_ep: ', 24)\n",
      "('r_all: ', -191.31061791849692)\n",
      "('learning_ep: ', 25)\n",
      "('r_all: ', -160.11248381334073)\n",
      "('learning_ep: ', 26)\n",
      "('r_all: ', -210.17694464362626)\n",
      "('learning_ep: ', 27)\n",
      "('r_all: ', -247.64638495417535)\n",
      "('learning_ep: ', 28)\n",
      "('r_all: ', -260.6109278744908)\n",
      "('learning_ep: ', 29)\n",
      "('r_all: ', -175.47249036272183)\n",
      "('learning_ep: ', 30)\n",
      "('r_all: ', -194.085103716091)\n",
      "('learning_ep: ', 31)\n",
      "('r_all: ', -255.98507787427752)\n",
      "('learning_ep: ', 32)\n",
      "('r_all: ', -204.41589717884213)\n",
      "('learning_ep: ', 33)\n",
      "('r_all: ', -198.29493152874514)\n",
      "('learning_ep: ', 34)\n",
      "('r_all: ', -262.0512819701183)\n",
      "('learning_ep: ', 35)\n",
      "('r_all: ', -253.0868016741669)\n",
      "('learning_ep: ', 36)\n",
      "('r_all: ', -265.9027985317758)\n",
      "('learning_ep: ', 37)\n",
      "('r_all: ', -303.77794369000384)\n",
      "('learning_ep: ', 38)\n",
      "('r_all: ', -147.43833342814153)\n",
      "('learning_ep: ', 39)\n",
      "('r_all: ', -258.3228162832778)\n",
      "('learning_ep: ', 40)\n",
      "('r_all: ', -260.4379309231107)\n",
      "('learning_ep: ', 41)\n",
      "('r_all: ', -175.49965074622529)\n",
      "('learning_ep: ', 42)\n",
      "('r_all: ', -239.44104584803915)\n",
      "('learning_ep: ', 43)\n",
      "('r_all: ', -182.5719722290223)\n",
      "('learning_ep: ', 44)\n",
      "('r_all: ', -215.3911017392757)\n",
      "('learning_ep: ', 45)\n",
      "('r_all: ', -193.76412856229177)\n",
      "('learning_ep: ', 46)\n",
      "('r_all: ', -245.36765277090018)\n",
      "('learning_ep: ', 47)\n",
      "('r_all: ', -133.920679398848)\n",
      "('learning_ep: ', 48)\n",
      "('r_all: ', -268.8325570071668)\n",
      "('learning_ep: ', 49)\n",
      "('r_all: ', -268.73650976743556)\n",
      "('learning_ep: ', 50)\n",
      "('r_all: ', -241.67802257020787)\n",
      "('learning_ep: ', 51)\n",
      "('r_all: ', -197.74284717446432)\n",
      "('learning_ep: ', 52)\n",
      "('r_all: ', -245.05034810995826)\n",
      "('learning_ep: ', 53)\n",
      "('r_all: ', -177.7116180734738)\n",
      "('learning_ep: ', 54)\n",
      "('r_all: ', -189.2337783963678)\n",
      "('learning_ep: ', 55)\n",
      "('r_all: ', -268.7031624187536)\n",
      "('learning_ep: ', 56)\n",
      "('r_all: ', -195.32095502575604)\n",
      "('learning_ep: ', 57)\n",
      "('r_all: ', -278.4397299021327)\n",
      "('learning_ep: ', 58)\n",
      "('r_all: ', -255.20173253929826)\n",
      "('learning_ep: ', 59)\n",
      "('r_all: ', -197.16906909550346)\n",
      "('learning_ep: ', 60)\n",
      "('r_all: ', -244.83728593184063)\n",
      "('learning_ep: ', 61)\n",
      "('r_all: ', -292.1991569903164)\n",
      "('learning_ep: ', 62)\n",
      "('r_all: ', -287.8424130044006)\n",
      "('learning_ep: ', 63)\n",
      "('r_all: ', -321.8137660920703)\n",
      "('learning_ep: ', 64)\n",
      "('r_all: ', -326.40242098364115)\n",
      "('learning_ep: ', 65)\n",
      "('r_all: ', -319.16456684013843)\n",
      "('learning_ep: ', 66)\n",
      "('r_all: ', -383.57622623900613)\n",
      "('learning_ep: ', 67)\n",
      "('r_all: ', -191.10078339601796)\n",
      "('learning_ep: ', 68)\n",
      "('r_all: ', -289.68659105555287)\n",
      "('learning_ep: ', 69)\n",
      "('r_all: ', -206.73554456573282)\n",
      "('learning_ep: ', 70)\n",
      "('r_all: ', -255.5311818899692)\n",
      "('learning_ep: ', 71)\n",
      "('r_all: ', -141.36902926916264)\n",
      "('learning_ep: ', 72)\n",
      "('r_all: ', -120.41778936262193)\n",
      "('learning_ep: ', 73)\n",
      "('r_all: ', -120.70935415728013)\n",
      "('learning_ep: ', 74)\n",
      "('r_all: ', -114.16223402378644)\n",
      "('learning_ep: ', 75)\n",
      "('r_all: ', -110.53751913963669)\n",
      "('learning_ep: ', 76)\n",
      "('r_all: ', -109.59109899075817)\n",
      "('learning_ep: ', 77)\n",
      "('r_all: ', -101.74801226856991)\n",
      "('learning_ep: ', 78)\n",
      "('r_all: ', -103.30691878650933)\n",
      "('learning_ep: ', 79)\n",
      "('r_all: ', -94.37436511506657)\n",
      "('learning_ep: ', 80)\n",
      "('r_all: ', -92.4829259963065)\n",
      "('learning_ep: ', 81)\n",
      "('r_all: ', -88.92225557400232)\n",
      "('learning_ep: ', 82)\n",
      "('r_all: ', -87.43931391871408)\n",
      "('learning_ep: ', 83)\n",
      "('r_all: ', -92.48089651505252)\n",
      "('learning_ep: ', 84)\n",
      "('r_all: ', -97.24947575028433)\n",
      "('learning_ep: ', 85)\n",
      "('r_all: ', -95.47032896806235)\n",
      "('learning_ep: ', 86)\n",
      "('r_all: ', -89.20459773302048)\n",
      "('learning_ep: ', 87)\n",
      "('r_all: ', -87.33153396824285)\n",
      "('learning_ep: ', 88)\n",
      "('r_all: ', -89.39297384483716)\n",
      "('learning_ep: ', 89)\n",
      "('r_all: ', -90.78607657492653)\n",
      "('learning_ep: ', 90)\n",
      "('r_all: ', -98.44932362715937)\n",
      "('learning_ep: ', 91)\n",
      "('r_all: ', -96.23194069792314)\n",
      "('learning_ep: ', 92)\n",
      "('r_all: ', -99.5312981303637)\n",
      "('learning_ep: ', 93)\n",
      "('r_all: ', -96.97786164769181)\n",
      "('learning_ep: ', 94)\n",
      "('r_all: ', -98.11468442262515)\n",
      "('learning_ep: ', 95)\n",
      "('r_all: ', -91.8690428164376)\n",
      "('learning_ep: ', 96)\n",
      "('r_all: ', -86.98803337200839)\n",
      "('learning_ep: ', 97)\n",
      "('r_all: ', -87.59663805349098)\n",
      "('learning_ep: ', 98)\n",
      "('r_all: ', -87.15973002365821)\n",
      "('learning_ep: ', 99)\n",
      "('r_all: ', -86.42987379055711)\n"
     ]
    }
   ],
   "source": [
    "max_learning_ep = 100\n",
    "\n",
    "for learning_ep in range(max_learning_ep):\n",
    "    print(\"learning_ep: \", learning_ep)\n",
    "    \n",
    "    s = env.reset()\n",
    "    r_all = 0\n",
    "    for step_ep in range(max_step_ep):\n",
    "        a = agent.action(s)\n",
    "        s_,r,d,_ = env.step( a*a_scope )\n",
    "        agent.store_memory(s, s_, r, a)\n",
    "        r_all += r\n",
    "        s = s_\n",
    "        if d:\n",
    "            break\n",
    "    print(\"r_all: \", r_all)\n",
    "    r_save.append( r_all )"
   ]
  },
  {
   "cell_type": "code",
   "execution_count": 12,
   "metadata": {},
   "outputs": [],
   "source": [
    "agent.adjust_norm = 0"
   ]
  },
  {
   "cell_type": "code",
   "execution_count": 13,
   "metadata": {},
   "outputs": [
    {
     "data": {
      "text/plain": [
       "0.36787024399384166"
      ]
     },
     "execution_count": 13,
     "metadata": {},
     "output_type": "execute_result"
    }
   ],
   "source": [
    "agent.var"
   ]
  },
  {
   "cell_type": "code",
   "execution_count": 14,
   "metadata": {},
   "outputs": [],
   "source": [
    "from tqdm import trange"
   ]
  },
  {
   "cell_type": "code",
   "execution_count": 15,
   "metadata": {
    "scrolled": true
   },
   "outputs": [
    {
     "name": "stderr",
     "output_type": "stream",
     "text": [
      "\r",
      "  0%|          | 0/200 [00:00<?, ?it/s]"
     ]
    },
    {
     "name": "stdout",
     "output_type": "stream",
     "text": [
      "('with learning cycles: ', 100)\n"
     ]
    },
    {
     "name": "stderr",
     "output_type": "stream",
     "text": [
      "100%|██████████| 200/200 [26:37<00:00,  7.99s/it]\n"
     ]
    }
   ],
   "source": [
    "print( \"with learning cycles: \", len(r_save) )\n",
    "\n",
    "max_learning_ep = 200\n",
    "\n",
    "for learning_ep in trange(max_learning_ep):\n",
    "#     print(\"learning_ep: \", learning_ep)\n",
    "    \n",
    "    s = env.reset()\n",
    "    r_all = 0\n",
    "    for step_ep in range(max_step_ep):\n",
    "        agent.var = 0.05\n",
    "        a = agent.action(s)\n",
    "        s_,r,d,_ = env.step( a*a_scope )\n",
    "        agent.store_memory(s, s_, r, a)\n",
    "        r_all += r\n",
    "        s = s_\n",
    "        if d:\n",
    "            break\n",
    "#     print(\"r_all: \", r_all)\n",
    "    r_save.append( r_all )"
   ]
  },
  {
   "cell_type": "code",
   "execution_count": 17,
   "metadata": {},
   "outputs": [
    {
     "data": {
      "image/png": "[encoded data removed]",
      "text/plain": [
       "<Figure size 432x288 with 1 Axes>"
      ]
     },
     "metadata": {},
     "output_type": "display_data"
    }
   ],
   "source": [
    "xypoints = r_save\n",
    "\n",
    "plt.plot(np.array(xypoints).reshape(-1), 'g--', label='-')\n",
    "plt.title('Title: reward')\n",
    "plt.xlabel('X')\n",
    "plt.ylabel('Y')\n",
    "plt.legend(loc='upper left')\n",
    "plt.show()"
   ]
  },
  {
   "cell_type": "code",
   "execution_count": null,
   "metadata": {},
   "outputs": [],
   "source": []
  },
  {
   "cell_type": "code",
   "execution_count": 12,
   "metadata": {},
   "outputs": [],
   "source": [
    "s = (np.random.rand(3)-0.5)*10"
   ]
  },
  {
   "cell_type": "code",
   "execution_count": 18,
   "metadata": {},
   "outputs": [],
   "source": [
    "self=agent"
   ]
  },
  {
   "cell_type": "code",
   "execution_count": 19,
   "metadata": {},
   "outputs": [
    {
     "data": {
      "text/plain": [
       "array([ 0.00870691, -0.00792007, -0.00617578,  0.00687384, -0.00858311,\n",
       "       -0.00550336, -0.05870445, -1.58777399, -1.5733516 , -0.2986    ,\n",
       "        0.19425   ,  0.39555   ])"
      ]
     },
     "execution_count": 19,
     "metadata": {},
     "output_type": "execute_result"
    }
   ],
   "source": [
    "s"
   ]
  },
  {
   "cell_type": "code",
   "execution_count": 20,
   "metadata": {},
   "outputs": [],
   "source": [
    "norm_s = self.sess.run(self.norm_s, { self.is_training:False, self.s: s[np.newaxis, :]})[0]"
   ]
  },
  {
   "cell_type": "code",
   "execution_count": 21,
   "metadata": {},
   "outputs": [
    {
     "data": {
      "text/plain": [
       "array([ 0.00870256, -0.00791612, -0.0061727 ,  0.0068704 , -0.00857882,\n",
       "       -0.00550061, -0.05867511, -1.5869807 , -1.5725654 , -0.2984508 ,\n",
       "        0.19415294,  0.39535236], dtype=float32)"
      ]
     },
     "execution_count": 21,
     "metadata": {},
     "output_type": "execute_result"
    }
   ],
   "source": [
    "norm_s"
   ]
  },
  {
   "cell_type": "code",
   "execution_count": 22,
   "metadata": {},
   "outputs": [],
   "source": [
    "norm_s_ = self.sess.run(self.norm_s_, { self.is_training2:False, self.s_: s[np.newaxis, :]})[0]"
   ]
  },
  {
   "cell_type": "code",
   "execution_count": 23,
   "metadata": {},
   "outputs": [
    {
     "data": {
      "text/plain": [
       "array([ 0.00870256, -0.00791612, -0.0061727 ,  0.0068704 , -0.00857882,\n",
       "       -0.00550061, -0.05867511, -1.5869807 , -1.5725654 , -0.2984508 ,\n",
       "        0.19415294,  0.39535236], dtype=float32)"
      ]
     },
     "execution_count": 23,
     "metadata": {},
     "output_type": "execute_result"
    }
   ],
   "source": [
    "norm_s_"
   ]
  },
  {
   "cell_type": "code",
   "execution_count": null,
   "metadata": {},
   "outputs": [],
   "source": []
  },
  {
   "cell_type": "markdown",
   "metadata": {},
   "source": [
    "#### Test without action noise and bound"
   ]
  },
  {
   "cell_type": "code",
   "execution_count": 10,
   "metadata": {},
   "outputs": [
    {
     "name": "stdout",
     "output_type": "stream",
     "text": [
      "('learning_ep: ', 0)\n",
      "('r_all: ', -21.237994328123317)\n"
     ]
    }
   ],
   "source": [
    "for learning_ep in range( 1 ):\n",
    "    print(\"learning_ep: \", learning_ep)\n",
    "    \n",
    "    s = env.reset()\n",
    "    r_all = 0\n",
    "    act_save = []\n",
    "    dis_save = []\n",
    "    vel_save = []\n",
    "    for step_ep in range(max_step_ep):\n",
    "#         env.render()\n",
    "        \n",
    "        self = agent\n",
    "        a = self.sess.run(self.a, { self.is_training:False, self.s: s[np.newaxis, :]})[0]\n",
    "        \n",
    "        act_save.append( a )\n",
    "        s_,r,d,info = env.step( a*a_scope )\n",
    "        vel_save.append( s_[:6] )\n",
    "        dis_save.append( info )\n",
    "        r_all += r\n",
    "        s = s_\n",
    "        if d:\n",
    "            break\n",
    "    print(\"r_all: \", r_all)\n"
   ]
  },
  {
   "cell_type": "code",
   "execution_count": 11,
   "metadata": {},
   "outputs": [],
   "source": [
    "act_save_2 = np.array( act_save )"
   ]
  },
  {
   "cell_type": "code",
   "execution_count": 12,
   "metadata": {},
   "outputs": [
    {
     "data": {
      "image/png": "[encoded data removed]",
      "text/plain": [
       "<Figure size 432x288 with 1 Axes>"
      ]
     },
     "metadata": {},
     "output_type": "display_data"
    },
    {
     "data": {
      "image/png": "[encoded data removed]",
      "text/plain": [
       "<Figure size 432x288 with 1 Axes>"
      ]
     },
     "metadata": {},
     "output_type": "display_data"
    },
    {
     "data": {
      "image/png": "[encoded data removed]",
      "text/plain": [
       "<Figure size 432x288 with 1 Axes>"
      ]
     },
     "metadata": {},
     "output_type": "display_data"
    }
   ],
   "source": [
    "for i in range( env.DoF ):\n",
    "    xypoints = act_save_2[:,i]\n",
    "\n",
    "    plt.plot(np.array(xypoints).reshape(-1), 'r--', label='-')\n",
    "    plt.title('Title: action')\n",
    "    plt.xlabel('X')\n",
    "    plt.ylabel('Y')\n",
    "    plt.legend(loc='upper left')\n",
    "    plt.show()"
   ]
  },
  {
   "cell_type": "code",
   "execution_count": 13,
   "metadata": {},
   "outputs": [],
   "source": [
    "vel_save_2 = np.array( vel_save )"
   ]
  },
  {
   "cell_type": "code",
   "execution_count": 14,
   "metadata": {},
   "outputs": [
    {
     "data": {
      "image/png": "[encoded data removed]",
      "text/plain": [
       "<Figure size 432x288 with 1 Axes>"
      ]
     },
     "metadata": {},
     "output_type": "display_data"
    },
    {
     "data": {
      "image/png": "[encoded data removed]",
      "text/plain": [
       "<Figure size 432x288 with 1 Axes>"
      ]
     },
     "metadata": {},
     "output_type": "display_data"
    },
    {
     "data": {
      "image/png": "[encoded data removed]",
      "text/plain": [
       "<Figure size 432x288 with 1 Axes>"
      ]
     },
     "metadata": {},
     "output_type": "display_data"
    }
   ],
   "source": [
    "for i in range( env.DoF ):\n",
    "    xypoints = vel_save_2[:,i]\n",
    "\n",
    "    plt.plot(np.array(xypoints).reshape(-1), 'r--', label='-')\n",
    "    plt.title('Title: velocity')\n",
    "    plt.xlabel('X')\n",
    "    plt.ylabel('Y')\n",
    "    plt.legend(loc='upper left')\n",
    "    plt.show()"
   ]
  },
  {
   "cell_type": "code",
   "execution_count": 15,
   "metadata": {},
   "outputs": [
    {
     "data": {
      "image/png": "[encoded data removed]",
      "text/plain": [
       "<Figure size 432x288 with 1 Axes>"
      ]
     },
     "metadata": {},
     "output_type": "display_data"
    }
   ],
   "source": [
    "xypoints = dis_save\n",
    "\n",
    "plt.plot(np.array(xypoints).reshape(-1), 'r--', label='-')\n",
    "plt.title('Title: distance')\n",
    "plt.xlabel('X')\n",
    "plt.ylabel('Y')\n",
    "plt.legend(loc='upper left')\n",
    "plt.show()"
   ]
  },
  {
   "cell_type": "code",
   "execution_count": null,
   "metadata": {},
   "outputs": [],
   "source": []
  },
  {
   "cell_type": "code",
   "execution_count": 1,
   "metadata": {},
   "outputs": [],
   "source": [
    "import numpy as np\n",
    "\n",
    "%matplotlib inline\n",
    "import matplotlib.pyplot as plt"
   ]
  },
  {
   "cell_type": "code",
   "execution_count": 2,
   "metadata": {},
   "outputs": [],
   "source": [
    "x = 1.0\n",
    "\n",
    "a = []\n",
    "m_step = 500\n",
    "for _ in range( m_step*300 - 30000 ):\n",
    "    x *= 0.99995\n",
    "    a.append( x )"
   ]
  },
  {
   "cell_type": "code",
   "execution_count": 3,
   "metadata": {},
   "outputs": [
    {
     "data": {
      "image/png": "[encoded data removed]",
      "text/plain": [
       "<Figure size 432x288 with 1 Axes>"
      ]
     },
     "metadata": {},
     "output_type": "display_data"
    }
   ],
   "source": [
    "xypoints = a\n",
    "\n",
    "plt.plot(np.array(xypoints).reshape(-1), 'r--', label='-')\n",
    "plt.title('Title')\n",
    "plt.xlabel('X')\n",
    "plt.ylabel('Y')\n",
    "plt.legend(loc='upper right')\n",
    "plt.show()"
   ]
  },
  {
   "cell_type": "code",
   "execution_count": null,
   "metadata": {},
   "outputs": [],
   "source": []
  },
  {
   "cell_type": "code",
   "execution_count": 31,
   "metadata": {},
   "outputs": [
    {
     "data": {
      "text/plain": [
       "'model-save-ddpg-ink-ros-3DoF-v1/model.ckpt'"
      ]
     },
     "execution_count": 31,
     "metadata": {},
     "output_type": "execute_result"
    }
   ],
   "source": [
    "tf.train.Saver().save( agent.sess, \"model-save-ddpg-ink-ros-3DoF-v1/model.ckpt\" ) "
   ]
  },
  {
   "cell_type": "code",
   "execution_count": null,
   "metadata": {},
   "outputs": [],
   "source": []
  }
 ],
 "metadata": {
  "kernelspec": {
   "display_name": "Python 2",
   "language": "python",
   "name": "python2"
  },
  "language_info": {
   "codemirror_mode": {
    "name": "ipython",
    "version": 2
   },
   "file_extension": ".py",
   "mimetype": "text/x-python",
   "name": "python",
   "nbconvert_exporter": "python",
   "pygments_lexer": "ipython2",
   "version": "2.7.15"
  }
 },
 "nbformat": 4,
 "nbformat_minor": 2
}

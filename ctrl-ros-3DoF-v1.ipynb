{
 "cells": [
  {
   "cell_type": "code",
   "execution_count": 1,
   "metadata": {},
   "outputs": [],
   "source": [
    "TCP_PORT = 15011"
   ]
  },
  {
   "cell_type": "code",
   "execution_count": 2,
   "metadata": {},
   "outputs": [],
   "source": [
    "import numpy as np\n",
    "import socket\n",
    "import json\n",
    "\n",
    "class tcp_env():\n",
    "    def __init__(self, tcp_port):\n",
    "        self.s=socket.socket(socket.AF_INET,socket.SOCK_STREAM)\n",
    "\n",
    "        self.s.connect(('127.0.0.1',tcp_port))\n",
    "\n",
    "        print( self.s.recv(1024).decode())\n",
    "\n",
    "        data = { 'type' : 'init' } \n",
    "\n",
    "        str_json = json.dumps(data)\n",
    "        self.s.send( str_json.encode() )\n",
    "        str_recv = self.s.recv(1024).decode()\n",
    "        \n",
    "        data_json = json.loads( str_recv )\n",
    "        \n",
    "        self.state_dim = data_json[\"state_dim\"]\n",
    "        self.action_dim = data_json[\"action_dim\"]\n",
    "        self.DoF = data_json[\"DoF\"]\n",
    "\n",
    "        # s.send('exit')\n",
    "        # s.close()        \n",
    "        \n",
    "    def  reset(self):\n",
    "        data = { 'type' : 'reset' } \n",
    "\n",
    "        str_json = json.dumps(data)\n",
    "        self.s.send( str_json.encode() )\n",
    "        str_recv = self.s.recv(1024).decode()\n",
    "        \n",
    "        data_json = json.loads( str_recv )\n",
    "        \n",
    "        state = np.array( data_json[\"state\"] )\n",
    "        return state\n",
    "    def step(self, action):\n",
    "        \n",
    "        data = { 'type' : 'step', 'action' : action.tolist() } \n",
    "\n",
    "        str_json = json.dumps(data)\n",
    "        self.s.send( str_json.encode() )\n",
    "        str_recv = self.s.recv(1024).decode()\n",
    "        \n",
    "        data_json = json.loads( str_recv )\n",
    "        \n",
    "        state = np.array( data_json[\"state\"] )\n",
    "        r = data_json[\"reward\"]\n",
    "        d = data_json[\"done\"]\n",
    "        info = data_json[\"info\"]\n",
    "        \n",
    "        return state, r, d, info\n",
    "    def close_tcp(self):\n",
    "        print(\" close tcp ... \")\n",
    "        data = { 'type' : 'close' } \n",
    "\n",
    "        str_json = json.dumps(data)\n",
    "        self.s.send( str_json.encode() )\n",
    "        self.s.close()        \n"
   ]
  },
  {
   "cell_type": "code",
   "execution_count": 3,
   "metadata": {},
   "outputs": [
    {
     "name": "stdout",
     "output_type": "stream",
     "text": [
      "Welcome!\n"
     ]
    }
   ],
   "source": [
    "env = tcp_env( tcp_port = TCP_PORT )"
   ]
  },
  {
   "cell_type": "code",
   "execution_count": null,
   "metadata": {},
   "outputs": [],
   "source": []
  },
  {
   "cell_type": "code",
   "execution_count": 8,
   "metadata": {},
   "outputs": [
    {
     "name": "stdout",
     "output_type": "stream",
     "text": [
      " close tcp ... \n"
     ]
    }
   ],
   "source": [
    "env.close_tcp()"
   ]
  },
  {
   "cell_type": "code",
   "execution_count": null,
   "metadata": {},
   "outputs": [],
   "source": []
  },
  {
   "cell_type": "code",
   "execution_count": 4,
   "metadata": {},
   "outputs": [],
   "source": [
    "max_step_ep = 1000"
   ]
  },
  {
   "cell_type": "code",
   "execution_count": 7,
   "metadata": {},
   "outputs": [
    {
     "name": "stdout",
     "output_type": "stream",
     "text": [
      "('learning_ep: ', 0)\n",
      "('r_all: ', 0)\n",
      "('learning_ep: ', 1)\n",
      "('r_all: ', 0)\n",
      "('learning_ep: ', 2)\n",
      "('r_all: ', 0)\n",
      "('learning_ep: ', 3)\n",
      "('r_all: ', 0)\n",
      "('learning_ep: ', 4)\n",
      "('r_all: ', 0)\n",
      "('learning_ep: ', 5)\n",
      "('r_all: ', 0)\n",
      "('learning_ep: ', 6)\n",
      "('r_all: ', 0)\n",
      "('learning_ep: ', 7)\n",
      "('r_all: ', 0)\n",
      "('learning_ep: ', 8)\n",
      "('r_all: ', 0)\n",
      "('learning_ep: ', 9)\n",
      "('r_all: ', 0)\n"
     ]
    }
   ],
   "source": [
    "for learning_ep in range( 10 ):\n",
    "    print(\"learning_ep: \", learning_ep)\n",
    "    \n",
    "    s = env.reset()\n",
    "    \n",
    "    r_all = 0\n",
    "#     act_save = []\n",
    "#     dis_save = []\n",
    "#     vel_save = []\n",
    "    \n",
    "    for step_ep in range(max_step_ep):\n",
    "#         env.render()\n",
    "        \n",
    "        \n",
    "#         act_save.append( a )\n",
    "        s_,r,d,info = env.step( (np.random.rand( env.action_dim )-0.5)*2* 0.02 )\n",
    "    \n",
    "#         vel_save.append( s_[:6] )\n",
    "#         dis_save.append( info )\n",
    "#         r_all += r\n",
    "#         s = s_\n",
    "#         if d:\n",
    "#             break\n",
    "            \n",
    "    print(\"r_all: \", r_all)\n"
   ]
  },
  {
   "cell_type": "code",
   "execution_count": null,
   "metadata": {},
   "outputs": [],
   "source": []
  }
 ],
 "metadata": {
  "kernelspec": {
   "display_name": "Python 2",
   "language": "python",
   "name": "python2"
  },
  "language_info": {
   "codemirror_mode": {
    "name": "ipython",
    "version": 2
   },
   "file_extension": ".py",
   "mimetype": "text/x-python",
   "name": "python",
   "nbconvert_exporter": "python",
   "pygments_lexer": "ipython2",
   "version": "2.7.15"
  }
 },
 "nbformat": 4,
 "nbformat_minor": 2
}
